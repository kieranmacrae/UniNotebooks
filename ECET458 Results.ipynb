{
 "cells": [
  {
   "cell_type": "markdown",
   "metadata": {},
   "source": [
    "# ECTE458 Results\n",
    "## Introduction\n",
    "This Notebook contains the results gathered throughout the ECTE458 Thesis Research project. The purpose of the file is to catagorise the data and prepare it to be included in the final Thesis."
   ]
  },
  {
   "cell_type": "markdown",
   "metadata": {},
   "source": [
    "## Creating and Preliminary Testing of Multiplater Perceptron Predictors\n",
    "9 Seperate Multi Layer Perceptrons (MLP) were trained to find a suitable candidate for the neural network predictor that would be used later in the experiment.\n",
    "\n",
    "Each predictor for which statistcs have been recorded are labeled in the following manner (n_1, n_2..., n_k). Each *n* denotes the number of neurons for that layer and *k *denotes the total number of layers. For example MLP (5, 5) denotes a MLP with 2 layers, each consisting of 5 neurons."
   ]
  },
  {
   "cell_type": "code",
   "execution_count": 34,
   "metadata": {},
   "outputs": [
    {
     "data": {
      "text/html": [
       "<div>\n",
       "<style scoped>\n",
       "    .dataframe tbody tr th:only-of-type {\n",
       "        vertical-align: middle;\n",
       "    }\n",
       "\n",
       "    .dataframe tbody tr th {\n",
       "        vertical-align: top;\n",
       "    }\n",
       "\n",
       "    .dataframe thead th {\n",
       "        text-align: right;\n",
       "    }\n",
       "</style>\n",
       "<table border=\"1\" class=\"dataframe\">\n",
       "  <thead>\n",
       "    <tr style=\"text-align: right;\">\n",
       "      <th></th>\n",
       "      <th>correct</th>\n",
       "      <th>incorrect</th>\n",
       "      <th>misprediction rate</th>\n",
       "    </tr>\n",
       "    <tr>\n",
       "      <th>name</th>\n",
       "      <th></th>\n",
       "      <th></th>\n",
       "      <th></th>\n",
       "    </tr>\n",
       "  </thead>\n",
       "  <tbody>\n",
       "    <tr>\n",
       "      <th>mlp_5_5</th>\n",
       "      <td>17252</td>\n",
       "      <td>0</td>\n",
       "      <td>0.000000</td>\n",
       "    </tr>\n",
       "    <tr>\n",
       "      <th>mlp_10_10</th>\n",
       "      <td>16940</td>\n",
       "      <td>312</td>\n",
       "      <td>1.808486</td>\n",
       "    </tr>\n",
       "    <tr>\n",
       "      <th>mlp_20_20</th>\n",
       "      <td>17252</td>\n",
       "      <td>0</td>\n",
       "      <td>0.000000</td>\n",
       "    </tr>\n",
       "    <tr>\n",
       "      <th>mlp_50_50</th>\n",
       "      <td>17252</td>\n",
       "      <td>0</td>\n",
       "      <td>0.000000</td>\n",
       "    </tr>\n",
       "    <tr>\n",
       "      <th>mlp_8_8</th>\n",
       "      <td>17199</td>\n",
       "      <td>53</td>\n",
       "      <td>0.307211</td>\n",
       "    </tr>\n",
       "    <tr>\n",
       "      <th>mlp_11_11</th>\n",
       "      <td>17242</td>\n",
       "      <td>10</td>\n",
       "      <td>0.057964</td>\n",
       "    </tr>\n",
       "    <tr>\n",
       "      <th>mlp_15_15</th>\n",
       "      <td>17236</td>\n",
       "      <td>16</td>\n",
       "      <td>0.092743</td>\n",
       "    </tr>\n",
       "    <tr>\n",
       "      <th>mlp_10</th>\n",
       "      <td>16774</td>\n",
       "      <td>478</td>\n",
       "      <td>2.770693</td>\n",
       "    </tr>\n",
       "    <tr>\n",
       "      <th>mlp_20</th>\n",
       "      <td>17225</td>\n",
       "      <td>27</td>\n",
       "      <td>0.156504</td>\n",
       "    </tr>\n",
       "  </tbody>\n",
       "</table>\n",
       "</div>"
      ],
      "text/plain": [
       "           correct  incorrect  misprediction rate\n",
       "name                                             \n",
       "mlp_5_5      17252          0            0.000000\n",
       "mlp_10_10    16940        312            1.808486\n",
       "mlp_20_20    17252          0            0.000000\n",
       "mlp_50_50    17252          0            0.000000\n",
       "mlp_8_8      17199         53            0.307211\n",
       "mlp_11_11    17242         10            0.057964\n",
       "mlp_15_15    17236         16            0.092743\n",
       "mlp_10       16774        478            2.770693\n",
       "mlp_20       17225         27            0.156504"
      ]
     },
     "execution_count": 34,
     "metadata": {},
     "output_type": "execute_result"
    }
   ],
   "source": [
    "import pandas as pd\n",
    "\n",
    "mlps = [\n",
    "    {'name': 'mlp_5_5',   'correct': 17252, 'incorrect': 0},\n",
    "    {'name': 'mlp_10_10', 'correct': 16940, 'incorrect': 312},\n",
    "    {'name': 'mlp_20_20', 'correct': 17252, 'incorrect': 0},\n",
    "    {'name': 'mlp_50_50', 'correct': 17252, 'incorrect': 0},\n",
    "    {'name': 'mlp_8_8',   'correct': 17199, 'incorrect': 53},\n",
    "    {'name': 'mlp_11_11', 'correct': 17242, 'incorrect': 10},\n",
    "    {'name': 'mlp_15_15', 'correct': 17236, 'incorrect': 16},\n",
    "    {'name': 'mlp_10',    'correct': 16774, 'incorrect': 478},\n",
    "    {'name': 'mlp_20',    'correct': 17225, 'incorrect': 27},\n",
    "]\n",
    "\n",
    "df = pd.DataFrame(mlps)\n",
    "df.set_index('name', inplace=True)\n",
    "\n",
    "def calculate_mispredictions (row):\n",
    "    return row['incorrect']/float(row['correct'] + row['incorrect']) * 100\n",
    "\n",
    "df['misprediction rate'] = df.apply (calculate_mispredictions, axis=1)\n",
    "\n",
    "df"
   ]
  },
  {
   "cell_type": "code",
   "execution_count": 35,
   "metadata": {},
   "outputs": [
    {
     "data": {
      "image/png": "[encoded data removed]",
      "text/plain": [
       "<Figure size 432x288 with 1 Axes>"
      ]
     },
     "metadata": {},
     "output_type": "display_data"
    }
   ],
   "source": [
    "import matplotlib.pyplot as plt\n",
    "\n",
    "mlp_plot = df.plot.bar(y='misprediction rate', legend=False, title='MLP Misprediction Rates')\n",
    "mlp_plot.set(xlabel='MLP Configuration', ylabel='Misprediction Rate (%)')\n",
    "plt.show()"
   ]
  },
  {
   "cell_type": "markdown",
   "metadata": {},
   "source": [
    "The results show unrealistic prediction accuraccies for the layouts of 5_5, 20_20 and 50_50, most likely due to overfitting. Interestingly there is a reasonable misprediction rate of 1.8% for the 10_10 layout, hence neighbouring layouts were examined to check the consistency. The layouts 8_8, 11_11 and 15_15 all show low misprediction rates, less than 0.5%.\n",
    "\n",
    "Two single layer MLPs were also examined, the 10 neuron MLP achieved a misprediciton rate of 2.8% and the 20 nueron variant achieved a misprediction rate of 0.2%. \n",
    "\n",
    "The simplest MLP, and therefore the quickest, the single layer 10 neuron network achieves a reasonable performance and it is the most feasable network to implement for further testing. The 2.8% misprediciton rate is well below that of other existing dynamic branch prediciton such as GShares 4.25%, which is to be expected of a full neural network."
   ]
  },
  {
   "cell_type": "markdown",
   "metadata": {},
   "source": [
    "## Performance of MLP in Gem5 Simulation"
   ]
  },
  {
   "cell_type": "code",
   "execution_count": null,
   "metadata": {},
   "outputs": [],
   "source": []
  }
 ],
 "metadata": {
  "kernelspec": {
   "display_name": "Python 3",
   "language": "python",
   "name": "python3"
  },
  "language_info": {
   "codemirror_mode": {
    "name": "ipython",
    "version": 3
   },
   "file_extension": ".py",
   "mimetype": "text/x-python",
   "name": "python",
   "nbconvert_exporter": "python",
   "pygments_lexer": "ipython3",
   "version": "3.6.5"
  }
 },
 "nbformat": 4,
 "nbformat_minor": 2
}
